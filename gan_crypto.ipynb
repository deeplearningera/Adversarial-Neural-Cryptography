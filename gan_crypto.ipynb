{
  "nbformat": 4,
  "nbformat_minor": 0,
  "metadata": {
    "colab": {
      "name": "gan_crypto.ipynb",
      "provenance": [],
      "collapsed_sections": []
    },
    "kernelspec": {
      "name": "python3",
      "display_name": "Python 3"
    },
    "accelerator": "GPU"
  },
  "cells": [
    {
      "cell_type": "code",
      "metadata": {
        "id": "c7R34c0u3q4i",
        "colab_type": "code",
        "outputId": "a999ee88-df6b-4b13-c98c-35827a224333",
        "colab": {
          "base_uri": "https://localhost:8080/",
          "height": 121
        }
      },
      "source": [
        "from google.colab import drive\n",
        "drive.mount('/content/drive/')"
      ],
      "execution_count": 0,
      "outputs": [
        {
          "output_type": "stream",
          "text": [
            "Go to this URL in a browser: https://accounts.google.com/o/oauth2/auth?client_id=947318989803-6bn6qk8qdgf4n4g3pfee6491hc0brc4i.apps.googleusercontent.com&redirect_uri=urn%3aietf%3awg%3aoauth%3a2.0%3aoob&response_type=code&scope=email%20https%3a%2f%2fwww.googleapis.com%2fauth%2fdocs.test%20https%3a%2f%2fwww.googleapis.com%2fauth%2fdrive%20https%3a%2f%2fwww.googleapis.com%2fauth%2fdrive.photos.readonly%20https%3a%2f%2fwww.googleapis.com%2fauth%2fpeopleapi.readonly\n",
            "\n",
            "Enter your authorization code:\n",
            "··········\n",
            "Mounted at /content/drive/\n"
          ],
          "name": "stdout"
        }
      ]
    },
    {
      "cell_type": "code",
      "metadata": {
        "id": "08bSZLjkfNP3",
        "colab_type": "code",
        "colab": {
          "base_uri": "https://localhost:8080/",
          "height": 35
        },
        "outputId": "aaa82e6c-6ec5-4b55-fbcf-c58e39d7222d"
      },
      "source": [
        "import ctypes\n",
        "#import gmpy2\n",
        "#from gmpy2 import mpz\n",
        "import matplotlib\n",
        "import matplotlib.pyplot as plt\n",
        "import numpy as np\n",
        "import pandas as pd\n",
        "import sys\n",
        "from keras import backend as K\n",
        "from keras.models import Model\n",
        "from keras.engine.input_layer import Input\n",
        "from keras.layers.core import Activation, Dense\n",
        "from keras.layers import Flatten, Reshape\n",
        "from keras.layers.convolutional import Conv1D\n",
        "from keras.layers.merge import concatenate\n",
        "from keras.optimizers import Adam, RMSprop\n",
        "from keras.models import load_model"
      ],
      "execution_count": 1,
      "outputs": [
        {
          "output_type": "stream",
          "text": [
            "Using TensorFlow backend.\n"
          ],
          "name": "stderr"
        }
      ]
    },
    {
      "cell_type": "code",
      "metadata": {
        "id": "Z1ToUrv5tJAM",
        "colab_type": "code",
        "colab": {}
      },
      "source": [
        "#function to define random dataset\n",
        "def random_batch(X_train, y_train, batch_size):\n",
        "    index_set = np.random.randint(0, X_train.shape[0], batch_size)\n",
        "    X_batch = X_train[index_set]\n",
        "    y_batch = y_train[index_set]\n",
        "    return X_batch, y_batch"
      ],
      "execution_count": 0,
      "outputs": []
    },
    {
      "cell_type": "code",
      "metadata": {
        "id": "O3QeDXBIfZK0",
        "colab_type": "code",
        "colab": {}
      },
      "source": [
        "\n",
        "model_name = 'crypto1'\n",
        "\n",
        "# Set up the crypto parameters: message, key, and ciphertext bit lengths\n",
        "m_bits = 16\n",
        "k_bits = 16\n",
        "c_bits = 16\n",
        "pad = 'same'\n",
        "\n",
        "# Compute the size of the message space, used later in training\n",
        "m_train = 2**(m_bits) #+ k_bits)\n",
        "\n"
      ],
      "execution_count": 0,
      "outputs": []
    },
    {
      "cell_type": "code",
      "metadata": {
        "id": "-l8ueqvgfdPI",
        "colab_type": "code",
        "colab": {}
      },
      "source": [
        "#alice net\n",
        "#1 input is message and 2 is key randomly generated\n",
        "ainput0 = Input(shape=(m_bits,)) #message\n",
        "ainput1 = Input(shape=(k_bits,)) #key\n",
        "#both input concatenated and given\n",
        "ainput = concatenate([ainput0, ainput1], axis=1)\n",
        "#1 layer dense with input\n",
        "adense1 = Dense(units=(m_bits + k_bits))(ainput)\n",
        "adense1a = Activation('tanh')(adense1)\n",
        "areshape = Reshape((m_bits + k_bits, 1,))(adense1a)\n",
        "\n",
        "aconv1 = Conv1D(filters=2, kernel_size=4, strides=1, padding=pad)(areshape)\n",
        "aconv1a = Activation('tanh')(aconv1)\n",
        "aconv2 = Conv1D(filters=4, kernel_size=2, strides=2, padding=pad)(aconv1a)\n",
        "aconv2a = Activation('tanh')(aconv2)\n",
        "aconv3 = Conv1D(filters=4, kernel_size=1, strides=1, padding=pad)(aconv2a)\n",
        "aconv3a = Activation('tanh')(aconv3)\n",
        "aconv4 = Conv1D(filters=1, kernel_size=1, strides=1, padding=pad)(aconv3a)\n",
        "aconv4a = Activation('sigmoid')(aconv4)\n",
        "\n",
        "aoutput = Flatten()(aconv4a)\n",
        "\n",
        "alice = Model([ainput0, ainput1], aoutput, name='alice')"
      ],
      "execution_count": 0,
      "outputs": []
    },
    {
      "cell_type": "code",
      "metadata": {
        "id": "_fFXbcAffvfC",
        "colab_type": "code",
        "colab": {}
      },
      "source": [
        "#bob net input is cipher and key\n",
        "binput0 = Input(shape=(c_bits,)) #cipher\n",
        "binput1 = Input(shape=(k_bits,)) #key\n",
        "binput = concatenate([binput0, binput1], axis=1)\n",
        "\n",
        "bdense1 = Dense(units=(c_bits + k_bits))(binput)\n",
        "bdense1a = Activation('tanh')(bdense1)\n",
        "breshape = Reshape((c_bits + k_bits, 1,))(bdense1a)\n",
        "\n",
        "bconv1 = Conv1D(filters=2, kernel_size=4, strides=1, padding=pad)(breshape)\n",
        "bconv1a = Activation('tanh')(bconv1)\n",
        "bconv2 = Conv1D(filters=4, kernel_size=2, strides=2, padding=pad)(bconv1a)\n",
        "bconv2a = Activation('tanh')(bconv2)\n",
        "bconv3 = Conv1D(filters=4, kernel_size=1, strides=1, padding=pad)(bconv2a)\n",
        "bconv3a = Activation('tanh')(bconv3)\n",
        "bconv4 = Conv1D(filters=1, kernel_size=1, strides=1, padding=pad)(bconv3a)\n",
        "bconv4a = Activation('sigmoid')(bconv4)\n",
        "\n",
        "boutput = Flatten()(bconv4a)\n",
        "\n",
        "bob = Model([binput0, binput1], boutput, name='bob')\n"
      ],
      "execution_count": 0,
      "outputs": []
    },
    {
      "cell_type": "code",
      "metadata": {
        "id": "6ovqB78JgckP",
        "colab_type": "code",
        "colab": {}
      },
      "source": [
        "#eve net\n",
        "einput = Input(shape=(c_bits,)) #ciphertext only\n",
        "\n",
        "edense1 = Dense(units=(c_bits + k_bits))(einput)\n",
        "edense1a = Activation('tanh')(edense1)\n",
        "edense2 = Dense(units=(c_bits + k_bits))(edense1a)\n",
        "edense2a = Activation('tanh')(edense2)\n",
        "ereshape = Reshape((c_bits + k_bits, 1,))(edense2a)\n",
        "\n",
        "econv1 = Conv1D(filters=2, kernel_size=4, strides=1, padding=pad)(ereshape)\n",
        "econv1a = Activation('tanh')(econv1)\n",
        "econv2 = Conv1D(filters=4, kernel_size=2, strides=2, padding=pad)(econv1a)\n",
        "econv2a = Activation('tanh')(econv2)\n",
        "econv3 = Conv1D(filters=4, kernel_size=1, strides=1, padding=pad)(econv2a)\n",
        "econv3a = Activation('tanh')(econv3)\n",
        "econv4 = Conv1D(filters=1, kernel_size=1, strides=1, padding=pad)(econv3a)\n",
        "econv4a = Activation('sigmoid')(econv4)\n",
        "\n",
        "eoutput = Flatten()(econv4a)# Eve's attempt at guessing the plaintext\n",
        "\n",
        "eve = Model(einput, eoutput, name='eve')"
      ],
      "execution_count": 0,
      "outputs": []
    },
    {
      "cell_type": "code",
      "metadata": {
        "id": "G_AnhA6Btwxy",
        "colab_type": "code",
        "colab": {}
      },
      "source": [
        "alice.compile(loss='mse', optimizer='sgd') #mean square error loss function, Stochastic gradient descent optimizer\n",
        "bob.compile(loss='mse', optimizer='sgd')\n",
        "eve.compile(loss='mse', optimizer='sgd')\n",
        "if False:\n",
        "    alice.summary()\n",
        "    bob.summary()\n",
        "    eve.summary()"
      ],
      "execution_count": 0,
      "outputs": []
    },
    {
      "cell_type": "markdown",
      "metadata": {
        "id": "LjjpcVaQt-bW",
        "colab_type": "text"
      },
      "source": [
        "Loss + Optimizer"
      ]
    },
    {
      "cell_type": "code",
      "metadata": {
        "id": "_vjGiIHChHel",
        "colab_type": "code",
        "colab": {
          "base_uri": "https://localhost:8080/",
          "height": 110
        },
        "outputId": "09350184-f7cd-4a52-a95c-820bc1150c1a"
      },
      "source": [
        "\n",
        "# Establish the communication channels by linking inputs to outputs\n",
        "#\n",
        "aliceout = alice([ainput0, ainput1])\n",
        "bobout = bob( [aliceout, binput1] )\n",
        "eveout = eve( aliceout )\n",
        "\n",
        "\n",
        "eveloss = K.mean(  K.sum(K.abs(ainput0 - eveout), axis=-1)  )\n",
        "\n",
        "\n",
        "#\n",
        "bobloss = K.mean(  K.sum(K.abs(ainput0 - bobout), axis=-1)  )\n",
        "abeloss = bobloss + K.square(m_bits/2 - eveloss)/( (m_bits//2)**2 )\n",
        "\n",
        "# Optimizer and compilation\n",
        "#\n",
        "abeoptim = RMSprop(lr=0.001)\n",
        "eveoptim = RMSprop(lr=0.001) #default 0.001\n",
        "\n",
        "\n",
        "# Build and compile the ABE model, used for training Alice-Bob networks\n",
        "#\n",
        "abemodel = Model([ainput0, ainput1, binput1], bobout, name='abemodel')\n",
        "abemodel.add_loss(abeloss)\n",
        "abemodel.compile(optimizer=abeoptim)\n",
        "\n",
        "\n",
        "\n",
        "alice.trainable = False\n",
        "evemodel = Model([ainput0, ainput1], eveout, name='evemodel')\n",
        "evemodel.add_loss(eveloss)\n",
        "evemodel.compile(optimizer=eveoptim)"
      ],
      "execution_count": 8,
      "outputs": [
        {
          "output_type": "stream",
          "text": [
            "/usr/local/lib/python3.6/dist-packages/keras/engine/training_utils.py:819: UserWarning: Output bob missing from loss dictionary. We assume this was done on purpose. The fit and evaluate APIs will not be expecting any data to be passed to bob.\n",
            "  'be expecting any data to be passed to {0}.'.format(name))\n",
            "/usr/local/lib/python3.6/dist-packages/keras/engine/training_utils.py:819: UserWarning: Output eve missing from loss dictionary. We assume this was done on purpose. The fit and evaluate APIs will not be expecting any data to be passed to eve.\n",
            "  'be expecting any data to be passed to {0}.'.format(name))\n"
          ],
          "name": "stderr"
        }
      ]
    },
    {
      "cell_type": "markdown",
      "metadata": {
        "id": "ID1uYpckujec",
        "colab_type": "text"
      },
      "source": [
        "Train / save / restore"
      ]
    },
    {
      "cell_type": "code",
      "metadata": {
        "id": "zeqGd9s4hy5E",
        "colab_type": "code",
        "colab": {}
      },
      "source": [
        "abelosses = []\n",
        "boblosses = []\n",
        "evelosses = []"
      ],
      "execution_count": 0,
      "outputs": []
    },
    {
      "cell_type": "code",
      "metadata": {
        "id": "XaU05xUwuud0",
        "colab_type": "code",
        "outputId": "ae9c659b-f479-458c-9abe-3dd5f8629a87",
        "colab": {
          "base_uri": "https://localhost:8080/",
          "height": 90
        }
      },
      "source": [
        "n_epochs = 20\n",
        "batch_size = 512\n",
        "n_batches = m_train // batch_size\n",
        "\n",
        "abecycles = 1\n",
        "evecycles = 2\n",
        "\n",
        "epoch = 0\n",
        "print(\"Training for\", n_epochs, \"epochs with\", n_batches, \"batches of size\", batch_size)\n",
        "\n",
        "while epoch < n_epochs:\n",
        "    abelosses0 = []\n",
        "    boblosses0 = []\n",
        "    evelosses0 = []\n",
        "    for iteration in range(n_batches):\n",
        "        \n",
        "        # Train the A-B+E network\n",
        "        #\n",
        "        alice.trainable = True\n",
        "        for cycle in range(abecycles):\n",
        "            # Select a random batch of messages, and a random batch of keys\n",
        "            #\n",
        "            m_batch = np.random.randint(0, 2, m_bits * batch_size).reshape(batch_size, m_bits)\n",
        "            k_batch = np.random.randint(0, 2, k_bits * batch_size).reshape(batch_size, k_bits)\n",
        "            loss = abemodel.train_on_batch([m_batch, k_batch, k_batch], None)\n",
        "        \n",
        "        abelosses0.append(loss)\n",
        "        abelosses.append(loss)\n",
        "        abeavg = np.mean(abelosses0)\n",
        "            \n",
        "        # Evaluate Bob's ability to decrypt a message\n",
        "        m_enc = alice.predict([m_batch, k_batch])\n",
        "        m_dec = bob.predict([m_enc, k_batch])\n",
        "        loss = np.mean(  np.sum( np.abs(m_batch - m_dec), axis=-1)  )\n",
        "        boblosses0.append(loss)\n",
        "        boblosses.append(loss)\n",
        "        bobavg = np.mean(boblosses0)\n",
        "        \n",
        "        # Train the EVE network\n",
        "        #\n",
        "        alice.trainable = False\n",
        "        for cycle in range(evecycles):\n",
        "            m_batch = np.random.randint(0, 2, m_bits * batch_size).reshape(batch_size, m_bits)\n",
        "            k_batch = np.random.randint(0, 2, k_bits * batch_size).reshape(batch_size, k_bits)\n",
        "            loss = evemodel.train_on_batch([m_batch, k_batch], None)\n",
        "        \n",
        "        evelosses0.append(loss)\n",
        "        evelosses.append(loss)\n",
        "        eveavg = np.mean(evelosses0)\n",
        "        \n",
        "        if iteration % max(1, (n_batches // 100)) == 0:\n",
        "            print(\"\\rEpoch {:3}: {:3}% | abe: {:2.3f} | eve: {:2.3f} | bob: {:2.3f}\".format(\n",
        "                epoch, 100 * iteration // n_batches, abeavg, eveavg, bobavg), end=\"\")\n",
        "            sys.stdout.flush()\n",
        "    \n",
        "    print()\n",
        "    epoch += 1\n",
        "    \n",
        "print('Training finished.')"
      ],
      "execution_count": 0,
      "outputs": [
        {
          "output_type": "stream",
          "text": [
            "Training for 20 epochs with 128 batches of size 512\n",
            "Epoch   0:  99% | abe: 7.738 | eve: 6.846 | bob: 7.685\n",
            "Epoch   1:  99% | abe: 5.632 | eve: 3.394 | bob: 5.257\n",
            "Epoch   2:  46% | abe: 3.800 | eve: 2.079 | bob: 3.219"
          ],
          "name": "stdout"
        }
      ]
    },
    {
      "cell_type": "code",
      "metadata": {
        "id": "XHifs0Yzu8tK",
        "colab_type": "code",
        "outputId": "8c63d6fc-fbe5-4f65-f368-5eb2a0216f4b",
        "colab": {
          "base_uri": "https://localhost:8080/",
          "height": 282
        }
      },
      "source": [
        "steps = -1\n",
        "\n",
        "plt.figure(figsize=(7, 4))\n",
        "plt.plot(abelosses[:steps], label='A-B')\n",
        "plt.plot(evelosses[:steps], label='Eve')\n",
        "plt.plot(boblosses[:steps], label='Bob')\n",
        "plt.xlabel(\"Iterations\", fontsize=13)\n",
        "plt.ylabel(\"Loss\", fontsize=13)\n",
        "plt.legend(fontsize=13)\n",
        "\n",
        "#plt.savefig(\"images/\" + model_name + \".png\", transparent=True) #dpi=100\n",
        "plt.show()"
      ],
      "execution_count": 0,
      "outputs": [
        {
          "output_type": "display_data",
          "data": {
            "image/png": "[encoded data removed]",
            "text/plain": [
              "<Figure size 504x288 with 1 Axes>"
            ]
          },
          "metadata": {
            "tags": []
          }
        }
      ]
    },
    {
      "cell_type": "code",
      "metadata": {
        "id": "rAG1Ir3avPBR",
        "colab_type": "code",
        "outputId": "bd613711-7a01-4e51-bfc3-e05f0134edf5",
        "colab": {
          "base_uri": "https://localhost:8080/",
          "height": 50
        }
      },
      "source": [
        "#evaluate\n",
        "n_examples = 10000\n",
        "\n",
        "m_batch = np.random.randint(0, 2, m_bits * n_examples).reshape(n_examples, m_bits)\n",
        "k_batch = np.random.randint(0, 2, m_bits * n_examples).reshape(n_examples, m_bits)\n",
        "\n",
        "m_enc = alice.predict([m_batch, k_batch])\n",
        "m_dec = (bob.predict([m_enc, k_batch]) > 0.5).astype(int)\n",
        "m_att = (eve.predict(m_enc) > 0.5).astype(int)\n",
        "\n",
        "bdiff = np.abs(m_batch - m_dec)\n",
        "bsum = np.sum(bdiff, axis=-1)\n",
        "ediff = np.abs(m_batch - m_att)\n",
        "esum = np.sum(ediff, axis=-1)\n",
        "\n",
        "print(\"Bob % correct: \", 100.0*np.sum(bsum == 0) / n_examples, '%')\n",
        "print(\"Eve % correct: \", 100.0*np.sum(esum == 0) / n_examples, '%')"
      ],
      "execution_count": 0,
      "outputs": [
        {
          "output_type": "stream",
          "text": [
            "Bob % correct:  98.5 %\n",
            "Eve % correct:  0.19 %\n"
          ],
          "name": "stdout"
        }
      ]
    },
    {
      "cell_type": "code",
      "metadata": {
        "id": "s5AB8N1CvY2S",
        "colab_type": "code",
        "colab": {}
      },
      "source": [
        "#freeze alica-bob\n",
        "\n",
        "\n",
        "aliceout = alice([ainput0, ainput1])\n",
        "bobout = bob( [aliceout, binput1] )# bob sees ciphertext AND key\n",
        "eveout = eve( aliceout )# eve doesn't see the key, only the cipher\n",
        "\n",
        "eveloss = K.mean(  K.sum(K.abs(ainput0 - eveout), axis=-1)  )\n",
        "bobloss = K.mean(  K.sum(K.abs(ainput0 - bobout), axis=-1)  )\n",
        "abeloss = bobloss + K.square(m_bits/2 - eveloss)/( (m_bits//2)**2 )\n",
        "\n",
        "abeoptim = RMSprop(lr=0.001)\n",
        "eveoptim = Adam()#RMSprop(lr=0.001) #default 0.001\n",
        "\n",
        "abemodel = Model([ainput0, ainput1, binput1], bobout, name='abemodel')\n",
        "abemodel.add_loss(abeloss)\n",
        "abemodel.compile(optimizer=abeoptim)\n",
        "\n",
        "alice.trainable = False\n",
        "evemodel = Model([ainput0, ainput1], eveout, name='evemodel')\n",
        "evemodel.add_loss(eveloss)\n",
        "evemodel.compile(optimizer=eveoptim)\n",
        "\n",
        "abelosses = []\n",
        "boblosses = []\n",
        "evelosses = []"
      ],
      "execution_count": 0,
      "outputs": []
    },
    {
      "cell_type": "code",
      "metadata": {
        "id": "L5AoOZD-vg7m",
        "colab_type": "code",
        "outputId": "3077c5c9-b460-4772-eddf-fef36fb3e650",
        "colab": {
          "base_uri": "https://localhost:8080/",
          "height": 386
        }
      },
      "source": [
        "n_epochs = 20\n",
        "batch_size = 512\n",
        "n_batches = m_train // batch_size\n",
        "\n",
        "epoch = 0\n",
        "print(\"Training for\", n_epochs, \"epochs with\", n_batches, \"batches of size\", batch_size)\n",
        "\n",
        "while epoch < n_epochs:\n",
        "    abelosses0 = []\n",
        "    boblosses0 = []\n",
        "    evelosses0 = []\n",
        "    for iteration in range(n_batches):\n",
        "        # Train Eve model only\n",
        "        #\n",
        "        alice.trainable = False\n",
        "        m_batch = np.random.randint(0, 2, m_bits * batch_size).reshape(batch_size, m_bits)\n",
        "        k_batch = np.random.randint(0, 2, k_bits * batch_size).reshape(batch_size, k_bits)\n",
        "        eveloss = evemodel.train_on_batch([m_batch, k_batch], None)\n",
        "        evelosses0.append(eveloss)\n",
        "        evelosses.append(eveloss)\n",
        "        eveavg = np.mean(evelosses0)\n",
        "        \n",
        "        # Evaluate Bob's ability to decrypt a message\n",
        "        m_enc = alice.predict([m_batch, k_batch])\n",
        "        m_dec = bob.predict([m_enc, k_batch])\n",
        "        bobloss = np.mean(  np.sum( np.abs(m_batch - m_dec), axis=-1)  )\n",
        "        boblosses0.append(bobloss)\n",
        "        boblosses.append(bobloss)\n",
        "        bobavg = np.mean(boblosses0)\n",
        "        \n",
        "        # Evaluate the ABE loss\n",
        "        abeloss = bobloss + ((m_bits/2 - eveloss)**2) / ( (m_bits//2)**2 )\n",
        "        abelosses0.append(abeloss)\n",
        "        abelosses.append(abeloss)\n",
        "        abeavg = np.mean(abelosses0)\n",
        "        \n",
        "        if iteration % max(1, (n_batches // 100)) == 0:\n",
        "            print(\"\\rEpoch {:3}: {:3}% | abe: {:2.3f} | eve: {:2.3f} | bob: {:2.3f}\".format(\n",
        "                epoch, 100 * iteration // n_batches, abeavg, eveavg, bobavg), end=\"\")\n",
        "            sys.stdout.flush()\n",
        "    \n",
        "    print()\n",
        "    epoch += 1\n",
        "    \n",
        "print('Training finished.')\n",
        "            \n",
        "            "
      ],
      "execution_count": 0,
      "outputs": [
        {
          "output_type": "stream",
          "text": [
            "Training for 20 epochs with 128 batches of size 512\n",
            "Epoch   0:  99% | abe: 7.999 | eve: 7.965 | bob: 7.999\n",
            "Epoch   1:  99% | abe: 8.024 | eve: 6.899 | bob: 7.999\n",
            "Epoch   2:  99% | abe: 8.128 | eve: 5.132 | bob: 7.998\n",
            "Epoch   3:  99% | abe: 8.209 | eve: 4.314 | bob: 7.997\n",
            "Epoch   4:  99% | abe: 8.263 | eve: 3.920 | bob: 8.003\n",
            "Epoch   5:  99% | abe: 8.288 | eve: 3.685 | bob: 7.997\n",
            "Epoch   6:  99% | abe: 8.309 | eve: 3.544 | bob: 7.998\n",
            "Epoch   7:  99% | abe: 8.321 | eve: 3.446 | bob: 7.996\n",
            "Epoch   8:  99% | abe: 8.332 | eve: 3.387 | bob: 7.999\n",
            "Epoch   9:  99% | abe: 8.337 | eve: 3.330 | bob: 7.996\n",
            "Epoch  10:  99% | abe: 8.346 | eve: 3.287 | bob: 7.999\n",
            "Epoch  11:  99% | abe: 8.347 | eve: 3.285 | bob: 8.000\n",
            "Epoch  12:  99% | abe: 8.353 | eve: 3.257 | bob: 8.001\n",
            "Epoch  13:  99% | abe: 8.351 | eve: 3.235 | bob: 7.997\n",
            "Epoch  14:  99% | abe: 8.349 | eve: 3.249 | bob: 7.996\n",
            "Epoch  15:  99% | abe: 8.353 | eve: 3.232 | bob: 7.998\n",
            "Epoch  16:  99% | abe: 8.355 | eve: 3.225 | bob: 7.999\n",
            "Epoch  17:  99% | abe: 8.360 | eve: 3.218 | bob: 8.002\n",
            "Epoch  18:  99% | abe: 8.360 | eve: 3.208 | bob: 8.001\n",
            "Epoch  19:  99% | abe: 8.355 | eve: 3.211 | bob: 7.997\n",
            "Training finished.\n"
          ],
          "name": "stdout"
        }
      ]
    },
    {
      "cell_type": "code",
      "metadata": {
        "id": "k6K88oULw2LG",
        "colab_type": "code",
        "outputId": "c59898a8-32b3-4975-c9c5-a148f5675710",
        "colab": {
          "base_uri": "https://localhost:8080/",
          "height": 282
        }
      },
      "source": [
        "steps = -1\n",
        "\n",
        "plt.figure(figsize=(7, 4))\n",
        "plt.plot(abelosses[:steps], label='A-B')\n",
        "plt.plot(evelosses[:steps], label='Eve')\n",
        "plt.plot(boblosses[:steps], label='Bob')\n",
        "plt.xlabel(\"Iterations\", fontsize=13)\n",
        "plt.ylabel(\"Loss\", fontsize=13)\n",
        "plt.legend(fontsize=13)\n",
        "\n",
        "#plt.savefig(\"images/\" + model_name + \"-eve1.png\", transparent=True) #dpi=100\n",
        "plt.show()"
      ],
      "execution_count": 0,
      "outputs": [
        {
          "output_type": "display_data",
          "data": {
            "image/png": "[encoded data removed]",
            "text/plain": [
              "<Figure size 504x288 with 1 Axes>"
            ]
          },
          "metadata": {
            "tags": []
          }
        }
      ]
    },
    {
      "cell_type": "code",
      "metadata": {
        "id": "a0tEilEBw3md",
        "colab_type": "code",
        "outputId": "af49ef9f-8bcd-4508-b84d-fd8da6582ddc",
        "colab": {
          "base_uri": "https://localhost:8080/",
          "height": 50
        }
      },
      "source": [
        "n_examples = 10000\n",
        "\n",
        "m_batch = np.random.randint(0, 2, m_bits * n_examples).reshape(n_examples, m_bits)\n",
        "k_batch = np.random.randint(0, 2, m_bits * n_examples).reshape(n_examples, m_bits)\n",
        "\n",
        "m_enc = alice.predict([m_batch, k_batch])\n",
        "m_dec = (bob.predict([m_enc, k_batch]) > 0.5).astype(int)\n",
        "m_att = (eve.predict(m_enc) > 0.5).astype(int)\n",
        "\n",
        "bdiff = np.abs(m_batch - m_dec)\n",
        "bsum = np.sum(bdiff, axis=-1)\n",
        "ediff = np.abs(m_batch - m_att)\n",
        "esum = np.sum(ediff, axis=-1)\n",
        "\n",
        "print(\"Bob % correct: \", 100.0*np.sum(bsum == 0) / n_examples, '%')\n",
        "print(\"Eve % correct: \", 100.0*np.sum(esum == 0) / n_examples, '%')"
      ],
      "execution_count": 0,
      "outputs": [
        {
          "output_type": "stream",
          "text": [
            "Bob % correct:  0.0 %\n",
            "Eve % correct:  2.78 %\n"
          ],
          "name": "stdout"
        }
      ]
    }
  ]
}